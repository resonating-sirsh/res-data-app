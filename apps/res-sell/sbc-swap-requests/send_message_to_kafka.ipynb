{
 "cells": [
  {
   "cell_type": "code",
   "execution_count": 23,
   "metadata": {},
   "outputs": [
    {
     "name": "stdout",
     "output_type": "stream",
     "text": [
      "2022-03-18 13:06.37 [info     ] Message sent to KGateway topic: res_sell.swap_material_sell.swap_material_sell\n"
     ]
    }
   ],
   "source": [
    "import asyncio\n",
    "from res.connectors.kafka.KGatewayClient import KGatewayClient\n",
    "\n",
    "TOPIC = \"res_sell.swap_material_sell.swap_material_sell\"\n",
    "\n",
    "\n",
    "async def send_message(data):\n",
    "    client = KGatewayClient()\n",
    "    client.send_message(TOPIC, data)\n",
    "\n",
    "\n",
    "msgs = [\n",
    "    {\"id\": \"recRgXSXde1nPhsPT\"},\n",
    "]\n",
    "\n",
    "async def main():\n",
    "    await asyncio.gather(*[send_message(msg) for msg in msgs])\n",
    "\n",
    "await main()"
   ]
  },
  {
   "cell_type": "code",
   "execution_count": 24,
   "metadata": {},
   "outputs": [
    {
     "name": "stdout",
     "output_type": "stream",
     "text": [
      "2022-03-18 13:07.06 [info     ] Message sent to KGateway topic: res_sell.swap_material_sell.swap_material_style\n"
     ]
    }
   ],
   "source": [
    "TOPIC = \"res_sell.swap_material_sell.swap_material_style\"\n",
    "\n",
    "\n",
    "async def send_message(data):\n",
    "    client = KGatewayClient()\n",
    "    client.send_message(TOPIC, data)\n",
    "\n",
    "\n",
    "msgs = [\n",
    "    {\n",
    "        \"swap_style_id\": \"reclde9RzQ04jzUzU\",\n",
    "        \"swap_material_request\": \"recRgXSXde1nPhsPT\",\n",
    "        \"style_id\": \"rec2afpIox16Kx7hw\",\n",
    "    },\n",
    "]\n",
    "\n",
    "\n",
    "async def main():\n",
    "    await asyncio.gather(*[send_message(msg) for msg in msgs])\n",
    "\n",
    "\n",
    "await main()"
   ]
  },
  {
   "cell_type": "code",
   "execution_count": 27,
   "metadata": {},
   "outputs": [
    {
     "name": "stdout",
     "output_type": "stream",
     "text": [
      "{'62166318fd302400091f0638': {'from': 'CTNL2', 'to': 'CTNL2', 'from_sbc': '62166318fd302400091f0638', 'style_ids': ['recX8Xj1A0gTLj8Eo'], 'swapped_styles': ['rec2afpIox16Kx7hw'], 'to_sbcs': ['62166318fd302400091f0638']}}\n"
     ]
    }
   ],
   "source": [
    "import redis, os, json\n",
    "\n",
    "redis_client = redis.Redis(host=os.getenv(\"REDIS_HOST\", \"localhost\"), port=6379, db=0)\n",
    "\n",
    "data = redis_client.get(\"recRgXSXde1nPhsPT\")\n",
    "print(json.loads(data))\n"
   ]
  },
  {
   "cell_type": "code",
   "execution_count": 26,
   "metadata": {},
   "outputs": [
    {
     "name": "stdout",
     "output_type": "stream",
     "text": [
      "2022-03-18 13:07.18 [info     ] Message sent to KGateway topic: res_sell.swap_material_sell.swap_material_style\n"
     ]
    }
   ],
   "source": [
    "TOPIC = \"res_sell.swap_material_sell.swap_material_style\"\n",
    "\n",
    "\n",
    "async def send_message(data):\n",
    "    client = KGatewayClient()\n",
    "    client.send_message(TOPIC, data)\n",
    "\n",
    "\n",
    "msgs = [\n",
    "    {\n",
    "        \"swap_style_id\": \"reclde9RzQ04jzUzU\",\n",
    "        \"swap_material_request\": \"recRgXSXde1nPhsPT\",\n",
    "        \"style_id\": \"recX8Xj1A0gTLj8Eo\",\n",
    "    },\n",
    "]\n",
    "\n",
    "\n",
    "async def main():\n",
    "    await asyncio.gather(*[send_message(msg) for msg in msgs])\n",
    "\n",
    "\n",
    "await main()"
   ]
  }
 ],
 "metadata": {
  "interpreter": {
   "hash": "fa08611db5979f1cb84a3b0e2b3896b2ce5867d4e73dc7e3054999964bfea505"
  },
  "kernelspec": {
   "display_name": "Python 3.9.7 ('rdp': venv)",
   "language": "python",
   "name": "python3"
  },
  "language_info": {
   "codemirror_mode": {
    "name": "ipython",
    "version": 3
   },
   "file_extension": ".py",
   "mimetype": "text/x-python",
   "name": "python",
   "nbconvert_exporter": "python",
   "pygments_lexer": "ipython3",
   "version": "3.9.7"
  },
  "orig_nbformat": 4
 },
 "nbformat": 4,
 "nbformat_minor": 2
}
