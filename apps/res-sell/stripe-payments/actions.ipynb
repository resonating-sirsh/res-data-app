{
 "cells": [
  {
   "cell_type": "code",
   "execution_count": 1,
   "metadata": {},
   "outputs": [],
   "source": [
    "input = {\n",
    "  \"payment_method\": \"pm_1KoChmA5RKqObLFcXqHEccVi\",\n",
    "  \"price\": \"price_1JwuunA5RKqObLFcBDPhHaGh\",\n",
    "  \"email\": \"ayavarez@resonance.nyc\",\n",
    "  \"brand\": { \n",
    "\t\"name\": \"Adrison Test Brand\",\n",
    "\t\"code\": \"TT\",\n",
    "\t\"id\": \"recXfhjajhwuhg\",\n",
    "  },\n",
    "}"
   ]
  },
  {
   "cell_type": "code",
   "execution_count": 5,
   "metadata": {},
   "outputs": [
    {
     "name": "stdout",
     "output_type": "stream",
     "text": [
      "{'payment_method': 'pm_1OHU3OA5RKqObLFcEFerbvZh', 'price': 'price_1JwuunA5RKqObLFcBDPhHaGh', 'email': 'ayavareztt00@resonance.nyc', 'brand': {'name': 'RS Brand', 'code': 'RS', 'id': 'recJqqDb70EOyz6xM'}}\n",
      "{'insert_sell_brands': {'returning': [{'id': 13, 'airtable_brand_code': 'RS', 'airtable_brand_id': 'recJqqDb70EOyz6xM'}]}}\n",
      "create_subscription_payload\n",
      "{'valid': True, 'data': {'insert_sell_subscriptions': {'returning': [{'balance': 0, 'collection_method': 'charge_automatically', 'created_at': '2023-11-28T16:26:53.69222+00:00', 'deleted_status': None, 'end_date': None, 'id': 14, 'name': 'RS Brand', 'start_date': '2023-11-28T16:26:50+00:00', 'subscription_id': 'sub_1OHU7aA5RKqObLFcjsB2llUn', 'updated_at': '2023-11-28T16:26:53.69222+00:00', 'stripe_customer_id': 'cus_P5fOSOJSmwPcu7', 'brand_id': 13, 'payment_method': 'pm_1OHU3OA5RKqObLFcEFerbvZh', 'current_period_start': '2023-11-28T16:26:50+00:00', 'current_period_end': '2023-12-28T16:26:50+00:00', 'is_direct_payment_default': False}]}}}\n"
     ]
    },
    {
     "data": {
      "text/plain": [
       "{'valid': True,\n",
       " 'data': {'insert_sell_subscriptions': {'returning': [{'balance': 0,\n",
       "     'collection_method': 'charge_automatically',\n",
       "     'created_at': '2023-11-28T16:26:53.69222+00:00',\n",
       "     'deleted_status': None,\n",
       "     'end_date': None,\n",
       "     'id': 14,\n",
       "     'name': 'RS Brand',\n",
       "     'start_date': '2023-11-28T16:26:50+00:00',\n",
       "     'subscription_id': 'sub_1OHU7aA5RKqObLFcjsB2llUn',\n",
       "     'updated_at': '2023-11-28T16:26:53.69222+00:00',\n",
       "     'stripe_customer_id': 'cus_P5fOSOJSmwPcu7',\n",
       "     'brand_id': 13,\n",
       "     'payment_method': 'pm_1OHU3OA5RKqObLFcEFerbvZh',\n",
       "     'current_period_start': '2023-11-28T16:26:50+00:00',\n",
       "     'current_period_end': '2023-12-28T16:26:50+00:00',\n",
       "     'is_direct_payment_default': False}]}}}"
      ]
     },
     "execution_count": 5,
     "metadata": {},
     "output_type": "execute_result"
    }
   ],
   "source": [
    "from src.actions import CreateSubscription\n",
    "import json\n",
    "import stripe\n",
    "stripe.api_key = \"sk_test_51JtxeQA5RKqObLFcis2VuftakrCr6tcY1N5B6ooijCmvIEik8XvHvA1zUQ3jQ48ofL2kzQrh0bwG7X2D9vPaYiji00bMdqr7xC\"\n",
    "\n",
    "payment_method = stripe.PaymentMethod.create(\n",
    "  type=\"card\",\n",
    "  card={\n",
    "    \"number\": \"4242424242424242\",\n",
    "    \"exp_month\": 12,\n",
    "    \"exp_year\": 2024,\n",
    "    \"cvc\": \"314\",\n",
    "  },\n",
    ")\n",
    "input = json.loads (\n",
    "    \"\"\"{\n",
    "    \"payment_method\": \"pm_1MClWgA5RKqObLFcktskCj4E\",\n",
    "    \"price\": \"price_1JwuunA5RKqObLFcBDPhHaGh\",\n",
    "    \"email\": \"ayavareztt00@resonance.nyc\",\n",
    "    \"brand\": {\n",
    "        \"name\": \"RS Brand\",\n",
    "        \"code\": \"RS\",\n",
    "        \"id\": \"recJqqDb70EOyz6xM\"\n",
    "    }\n",
    "}\n",
    "\"\"\"\n",
    ")\n",
    "\n",
    "input[\"payment_method\"] = payment_method[\"id\"]\n",
    "print(input)\n",
    "reusult = CreateSubscription(input)\n",
    "reusult.create()\n",
    "# print(result)"
   ]
  },
  {
   "cell_type": "code",
   "execution_count": 15,
   "metadata": {
    "scrolled": true
   },
   "outputs": [
    {
     "name": "stdout",
     "output_type": "stream",
     "text": [
      "imported\n",
      "get stripe data \n",
      "1\n",
      "{'payment_intent_id': 'pi_3LS0MFA5RKqObLFc0YDb4z4V', 'amount': 250000, 'status': 'canceled', 'payment_method': None, 'charges_exist': True, 'charge': {'id': 'ch_3LS0MFA5RKqObLFc0lEPs641', 'amount': 250000, 'status': 'failed', 'failure_message': 'Your card was declined.', 'failure_balance_transaction': None, 'code': 'card_declined'}}\n",
      "done.. - \n"
     ]
    }
   ],
   "source": [
    "#Test Data for error reports\n",
    "\n",
    "# stripe_customer_id = \"cus_LoHCL4tgY9xZ6S\"\n",
    "# stripe_customer_id = \"cus_MAL2wQrEKMkUh6\"\n",
    "# stripe_customer_id = \"cus_LoHCL4tgY9xZ6S\"\n",
    "# stripe_customer_id = \"cus_MycBQ3IMonzc3v\"\n",
    "stripe_customer_id = \"cus_MycBQ3IMonzc3v\"\n",
    "\n"
   ]
  },
  {
   "cell_type": "code",
   "execution_count": 1,
   "metadata": {},
   "outputs": [
    {
     "name": "stdout",
     "output_type": "stream",
     "text": [
      "2023-02-16 18:29.38 [info     ] Log level set to 10\n",
      "2023-02-16 18:29.38 [warning  ] Sentry integration not enabled, skipping sentry init.\n",
      "2023-02-16 18:29.38 [debug    ] Set up metrics provider: <res.utils.logging.ResLogger.DummyMetricsProvider object at 0x13aadee20>\n",
      "2023-02-16 18:29.39 [debug    ] Module 'res' finished initializing!\n",
      "2023-02-16 18:29.39 [debug    ] requesting secret: STRIPE_API_SECRET_KEY\n",
      "2023-02-16 18:29.39 [debug    ] adding secret key to environment...\n",
      "2023-02-16 18:29.39 [debug    ] Configured Hasura Connector for http://localhost:8081/v1/graphql\n",
      "2023-02-16 18:29.39 [debug    ] requesting secret: GRAPH_API_KEY\n",
      "2023-02-16 18:29.40 [debug    ] adding secret key to environment...\n",
      "get stripe data \n",
      "[{'payment_intent_id': 'pi_3LS0MFA5RKqObLFc0YDb4z4V', 'customer': 'cus_MAL2wQrEKMkUh6', 'amount': 250000, 'status': 'canceled', 'payment_method': None, 'charges_exist': True, 'charge': {'id': 'ch_3LS0MFA5RKqObLFc0lEPs641', 'amount': 250000, 'status': 'failed', 'failure_message': 'Your card was declined.', 'failure_balance_transaction': None, 'code': 'card_declined'}}]\n"
     ]
    }
   ],
   "source": [
    "# Get All errors from stripe\n",
    "from src.actions import GetChargeErrors\n",
    "\n",
    "erros = GetChargeErrors(stripe_customer_id)\n",
    "\n",
    "print(erros.get_all())\n"
   ]
  },
  {
   "cell_type": "code",
   "execution_count": null,
   "metadata": {},
   "outputs": [],
   "source": []
  }
 ],
 "metadata": {
  "kernelspec": {
   "display_name": "Python 3 (ipykernel)",
   "language": "python",
   "name": "python3"
  },
  "language_info": {
   "codemirror_mode": {
    "name": "ipython",
    "version": 3
   },
   "file_extension": ".py",
   "mimetype": "text/x-python",
   "name": "python",
   "nbconvert_exporter": "python",
   "pygments_lexer": "ipython3",
   "version": "3.9.16"
  },
  "vscode": {
   "interpreter": {
    "hash": "b0fa6594d8f4cbf19f97940f81e996739fb7646882a419484c72d19e05852a7e"
   }
  }
 },
 "nbformat": 4,
 "nbformat_minor": 2
}
