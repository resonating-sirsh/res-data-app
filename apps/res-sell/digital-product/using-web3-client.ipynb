{
 "cells": [
  {
   "cell_type": "code",
   "execution_count": null,
   "metadata": {},
   "outputs": [],
   "source": [
    "import json\n",
    "import os\n",
    "\n",
    "from res.utils import secrets\n",
    "from src.connectors.web3_contracts import ONEContract, Web3Client\n",
    "\n",
    "secrets_key = [\n",
    "\t\"MORALIS_NODE_URL\",\n",
    "\t\"WALLET_PRIVATE_KEY\",\n",
    " \t\"WALLET_ADDRESS\",\n",
    "\t\"CONTRACT_ADDRESS\",\n",
    "\t\"CONTRACT_ABI\",\n",
    "]\n",
    "\n",
    "for secret_key in secrets_key:\n",
    "        secrets.secrets.get_secret(secret_key, force=False)\n",
    "\n",
    "client = Web3Client(\n",
    "\tnode_url=os.environ.get(\"MORALIS_NODE_URL\"),\n",
    "\tprivate_key=os.environ.get(\"WALLET_PRIVATE_KEY\"),\n",
    ")\n",
    "instance = ONEContract(\n",
    "\tclient=client,\n",
    "\tcontract_address=os.getenv(\"CONTRACT_ADDRESS\"),\n",
    "\tabi=json.loads(os.environ.get(\"CONTRACT_ABI\", \"\")),\n",
    ")\n",
    "\n",
    "uri = \"QmWZzRCGw8ARw8KqUnR9tUDJYW9nmAMLoMRvuvdriksKBp\"\n",
    "url = f\"https://ipfs.io/ipfs/{uri}\"\n",
    "instance.mint_nft(url, 1)\n",
    "token_id = instance.token_id_of(url)\n",
    "token_id\n"
   ]
  },
  {
   "cell_type": "code",
   "execution_count": null,
   "metadata": {},
   "outputs": [],
   "source": [
    "from src.connectors.graphql import get_paths_from_assets\n",
    "from res.connectors.graphql.hasura import Client\n",
    "\n",
    "hasura = Client()\n",
    "\n",
    "get_paths_from_assets(\"21c7c032-0b23-4579-b5ef-e8e0290965b9\",hasura)\n"
   ]
  },
  {
   "cell_type": "code",
   "execution_count": null,
   "metadata": {},
   "outputs": [],
   "source": [
    "from src.connectors.graphql import get_metadata_ipfs_url_from_style\n",
    "from res.connectors.graphql.ResGraphQLClient import ResGraphQLClient\n",
    "\n",
    "client = ResGraphQLClient()\n",
    "\n",
    "payload = {\n",
    "\t\"style_code\": \"TT-3001 CDCBM SLOTHZ\",\n",
    "\t\"animation_path\": \"s3://res-temp-public-bucket/style_assets_dev/6609879b-804e-4c5a-8eb7-e20f5b36c4b2/3d.glb\",\n",
    "\t\"thumbnail_path\": \"s3://res-temp-public-bucket/style_assets_dev/6609879b-804e-4c5a-8eb7-e20f5b36c4b2/right_front.png\",\n",
    "}\n",
    "get_metadata_ipfs_url_from_style(payload, client)\n"
   ]
  },
  {
   "cell_type": "code",
   "execution_count": null,
   "metadata": {},
   "outputs": [],
   "source": [
    "instance.transfer_nft(\n",
    "\tto_address='0xC10B6FAd1913Ec19545f98D90214c54392fFd8B7',\n",
    "\ttoken_id=1\n",
    ")"
   ]
  },
  {
   "cell_type": "code",
   "execution_count": 1,
   "metadata": {},
   "outputs": [
    {
     "name": "stdout",
     "output_type": "stream",
     "text": [
      "2022-06-27 13:52.53 [info     ] Log level set to 10\n",
      "2022-06-27 13:52.53 [warning  ] Please set RES_TEAM environment variable in your app. This should correspond to a team name in Sentry (e.g. res-general). See coda for more details.\n",
      "2022-06-27 13:52.54 [info     ] Sentry sdk set up for environment: development\n",
      "2022-06-27 13:52.57 [info     ] requesting secret: HASURA_API_SECRET_KEY\n",
      "2022-06-27 13:52.57 [debug    ] adding secret key to environment...\n",
      "2022-06-27 13:52.57 [debug    ] Configured Hasura Connector for https://hasura-dev.resmagic.io/v1/graphql\n",
      "2022-06-27 13:52.57 [debug    ] {'brand_id': 'TT', 'type': 'created', 'animation_id': '21c7c032-0b23-4579-b5ef-e8e0290965b9', 'status': ['hold', 'processing', 'done']}\n",
      "2022-06-27 13:52.58 [info     ] amount of request 1\n"
     ]
    },
    {
     "data": {
      "text/plain": [
       "True"
      ]
     },
     "execution_count": 1,
     "metadata": {},
     "output_type": "execute_result"
    }
   ],
   "source": [
    "from src.connectors.graphql import validate_not_duplicate_product_request, Client\n",
    "from src.utils import DigitialProductRequestType\n",
    "\n",
    "BRAND_ID = \"TT\"\n",
    "ANIMATION_ID = \"21c7c032-0b23-4579-b5ef-e8e0290965b9\"\n",
    "TYPE = DigitialProductRequestType.CREATED\n",
    "client = Client()\n",
    "\n",
    "validate_not_duplicate_product_request(brand_id=BRAND_ID, type=TYPE, animation_id=ANIMATION_ID, hasura_client=client)"
   ]
  }
 ],
 "metadata": {
  "interpreter": {
   "hash": "a6be90e1938206ba96ce84d4291b8f0890ef3c4e4cf67a6e170aa3aee20d4e70"
  },
  "kernelspec": {
   "display_name": "Python 3.7.13 ('rdp')",
   "language": "python",
   "name": "python3"
  },
  "language_info": {
   "codemirror_mode": {
    "name": "ipython",
    "version": 3
   },
   "file_extension": ".py",
   "mimetype": "text/x-python",
   "name": "python",
   "nbconvert_exporter": "python",
   "pygments_lexer": "ipython3",
   "version": "3.7.13"
  },
  "orig_nbformat": 4
 },
 "nbformat": 4,
 "nbformat_minor": 2
}
