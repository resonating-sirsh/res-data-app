{
 "cells": [
  {
   "cell_type": "code",
   "execution_count": null,
   "metadata": {},
   "outputs": [],
   "source": [
    "resource =[{\"id\": \"attwzZN561V8cf09i\",\"url\": \"https://dl.airtable.com/.attachments/4142204ae9024aa54ffd6096e334d60b/399ed8c6/brand_logo_sticky1.png?ts=1658427494&userId=usrpL8REiscs37cAu&cs=0dedc716284d3dc2\"}]\n",
    "color_image = {\"filename\": \"c33689db-5ebc-4cbd-a8dd-4bc637bc35b2.png\",\"url\": \"https://dl.airtable.com/.attachments/b27c45af09fe118a4c3980c8218dfb03/08748c1b/c33689db-5ebc-4cbd-a8dd-4bc637bc35b2.png?ts=1658427494&userId=usrpL8REiscs37cAu&cs=061b75bacbbe9730\"}\n",
    "input = {\n",
    "  \"brand\": { \n",
    "\t\"name\": \"Adrison Test Brand\",\n",
    "\t\"about\": \"This is a test\",\n",
    "\t\"primaryColor\": \"hsl(90%,100%,55%)\",\n",
    "\t\"secondaryColor\": \"hsl(61%,38%,13%)\",\n",
    "\t\"textColor\": \"hsl(34%,100%,55%)\",\n",
    "\t\"themeConfiguration\": \"CUSTOM\",\n",
    "\t\"isActive\": False,\n",
    "\t\"scope\": \"Partner\",\n",
    "\t\"contactEmail\": \"adrisonjr.gomez@gmail.com\",\n",
    "  },\n",
    "  \"user\": {\n",
    "\t\"firstName\": \"Adrison\",\n",
    "\t\"lastName\": \"Test\",\n",
    "  },\n",
    "  'brandAddress': {\n",
    "\t\"salesChannel\": \"Shopify\",\n",
    "\t\"defaultAddress\": True,\n",
    "\t\"shippingAddress1\": \"Here St\",\n",
    "\t\"shippingAddress2\": \"Here st\",\n",
    "\t\"shippingCompany\": \"UPS\",\n",
    "\t\"shippingCity\": \"Here\",\n",
    "\t\"shippingZip\": \"51000\",\n",
    "\t\"shippingProvince\": \"Province\",\n",
    "\t\"shippingCountry\": \"US\",\n",
    "\t\"shippingPhone\":\"+1234568790\",\n",
    "\t\"shippingName\": \"Test Adrison\"\n",
    "  }\n",
    "}"
   ]
  },
  {
   "cell_type": "code",
   "execution_count": null,
   "metadata": {},
   "outputs": [],
   "source": [
    "from src.actions import CreateBrandAction\n",
    "\n",
    "instance = CreateBrandAction(input)\n",
    "instance.create_brand_record()\n",
    "instance.create_user_record()\n",
    "instance.create_shopify_data_source_instance()\n",
    "instance.update_brand_label()\n",
    "instance.create_style()\n",
    "instance.create_brand_space()\n",
    "instance.create_style_space()\n",
    "print(instance.brand)"
   ]
  }
 ],
 "metadata": {
  "interpreter": {
   "hash": "a6be90e1938206ba96ce84d4291b8f0890ef3c4e4cf67a6e170aa3aee20d4e70"
  },
  "kernelspec": {
   "display_name": "Python 3.7.13 ('rdp')",
   "language": "python",
   "name": "python3"
  },
  "language_info": {
   "codemirror_mode": {
    "name": "ipython",
    "version": 3
   },
   "file_extension": ".py",
   "mimetype": "text/x-python",
   "name": "python",
   "nbconvert_exporter": "python",
   "pygments_lexer": "ipython3",
   "version": "3.7.13"
  },
  "orig_nbformat": 4
 },
 "nbformat": 4,
 "nbformat_minor": 2
}
